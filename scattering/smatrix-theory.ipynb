{
 "cells": [
  {
   "cell_type": "markdown",
   "id": "88255e86",
   "metadata": {},
   "source": [
    "# S-matrix theory"
   ]
  },
  {
   "cell_type": "code",
   "execution_count": 1,
   "id": "76ae5df1",
   "metadata": {},
   "outputs": [],
   "source": [
    "import numpy as np\n",
    "import matplotlib as plt\n",
    "import sympy as sp\n",
    "\n",
    "from logzero import logger\n",
    "from IPython.display import display, Math\n",
    "\n",
    "%matplotlib widget"
   ]
  },
  {
   "cell_type": "markdown",
   "id": "8bdd9c4a",
   "metadata": {},
   "source": [
    "# Deriving the Redheffer star product"
   ]
  },
  {
   "cell_type": "code",
   "execution_count": 19,
   "id": "cd71bc17",
   "metadata": {},
   "outputs": [
    {
     "name": "stderr",
     "output_type": "stream",
     "text": [
      "[I 250901 17:44:48 1224141417:9] Intermediate solution: \n"
     ]
    },
    {
     "data": {
      "text/latex": [
       "$\\displaystyle \\Large\\frac{- A_{11} B_{21} x_{1} - B_{22} x_{2}}{A_{12} B_{21} - 1}$"
      ],
      "text/plain": [
       "<IPython.core.display.Math object>"
      ]
     },
     "metadata": {},
     "output_type": "display_data"
    },
    {
     "data": {
      "text/latex": [
       "$\\displaystyle \\Large\\frac{- A_{11} x_{1} - A_{12} B_{22} x_{2}}{A_{12} B_{21} - 1}$"
      ],
      "text/plain": [
       "<IPython.core.display.Math object>"
      ]
     },
     "metadata": {},
     "output_type": "display_data"
    }
   ],
   "source": [
    "x1, x2, x3, x4, x5, x6 = sp.symbols( ' '.join( [ 'x_%d'%i for i in range( 1, 7 ) ] ) )\n",
    "A11, A12, A21, A22 = sp.symbols( ' '.join( [ 'A_{%d%d}'%( i, j ) for i in [1,2] for j in [1,2] ] ) )\n",
    "B11, B12, B21, B22 = sp.symbols( ' '.join( [ 'B_{%d%d}'%( i, j ) for i in [1,2] for j in [1,2] ] ) )\n",
    "\n",
    "eq1 = A11*x1 + A12*x5 - x6\n",
    "eq2 = B21*x6 + B22*x2 - x5\n",
    "intermediate_solution = sp.linsolve( [ eq1, eq2  ], ( x5, x6 ) )\n",
    "x5, x6 = list( intermediate_solution )[0]\n",
    "logger.info( 'Intermediate solution: ' )\n",
    "for exp, lbl in zip( [ x5, x6 ], [ 'x_5', 'x_6' ] ):\n",
    "    display( Math( f'\\\\Large{sp.latex( exp )}' ) )"
   ]
  },
  {
   "cell_type": "code",
   "execution_count": 18,
   "id": "9eb31fa5",
   "metadata": {},
   "outputs": [
    {
     "name": "stderr",
     "output_type": "stream",
     "text": [
      "[I 250901 17:34:32 328423006:5] Final solution: \n"
     ]
    },
    {
     "data": {
      "text/latex": [
       "$\\displaystyle \\Large\\frac{- A_{11} B_{11} x_{1} - A_{12} B_{11} B_{22} x_{2} + A_{12} B_{12} B_{21} x_{2} - B_{12} x_{2}}{A_{12} B_{21} - 1}$"
      ],
      "text/plain": [
       "<IPython.core.display.Math object>"
      ]
     },
     "metadata": {},
     "output_type": "display_data"
    },
    {
     "data": {
      "text/latex": [
       "$\\displaystyle \\Large\\frac{- A_{11} A_{22} B_{21} x_{1} + A_{12} A_{21} B_{21} x_{1} - A_{21} x_{1} - A_{22} B_{22} x_{2}}{A_{12} B_{21} - 1}$"
      ],
      "text/plain": [
       "<IPython.core.display.Math object>"
      ]
     },
     "metadata": {},
     "output_type": "display_data"
    }
   ],
   "source": [
    "eq3 = B11*x6 + B12*x2 - x3\n",
    "eq4 = A21*x1 + A22*x5 - x4\n",
    "final_solution = sp.linsolve( [ eq3, eq4 ], ( x3, x4 ) )\n",
    "x3, x4 = list( final_solution )[0]\n",
    "logger.info( 'Final solution: ' )\n",
    "for exp, lbl in zip( [ x3, x4 ], [ 'x_3', 'x_4' ] ):\n",
    "    display( Math( f'\\\\Large{sp.latex( sp.simplify( exp ) )}' ) )\n",
    "\n",
    "eq5 = list( final_solution )[0][0] - sp.symbols( 'x3' )\n",
    "eq6 = list( final_solution )[0][1] - sp.symbols( 'x4' )\n",
    "S, coeff = sp.linear_eq_to_matrix( [ eq5, eq6 ], ( x1, x2 ) )"
   ]
  },
  {
   "cell_type": "code",
   "execution_count": 3,
   "id": "0a77aff1",
   "metadata": {},
   "outputs": [
    {
     "name": "stderr",
     "output_type": "stream",
     "text": [
      "[I 250831 23:58:31 283930408:1] Final S-matrix: \n"
     ]
    },
    {
     "data": {
      "text/latex": [
       "$\\displaystyle \\Large\\left[\\begin{matrix}- \\frac{A_{11} B_{11}}{A_{12} B_{21} - 1} & \\frac{- A_{12} B_{11} B_{22} + A_{12} B_{12} B_{21} - B_{12}}{A_{12} B_{21} - 1}\\\\\\frac{- A_{11} A_{22} B_{21} + A_{12} A_{21} B_{21} - A_{21}}{A_{12} B_{21} - 1} & - \\frac{A_{22} B_{22}}{A_{12} B_{21} - 1}\\end{matrix}\\right]$"
      ],
      "text/plain": [
       "<IPython.core.display.Math object>"
      ]
     },
     "metadata": {},
     "output_type": "display_data"
    }
   ],
   "source": [
    "logger.info( 'Final S-matrix: ' )\n",
    "Sl = sp.latex(sp.simplify(S))\n",
    "display( Math( f'\\\\Large{sp.latex(sp.simplify(S))}' ) )"
   ]
  },
  {
   "cell_type": "markdown",
   "id": "9b9cc153",
   "metadata": {},
   "source": [
    "# S-matrix elements for 1-D scattering"
   ]
  },
  {
   "cell_type": "code",
   "execution_count": 4,
   "id": "fbcef91c",
   "metadata": {},
   "outputs": [],
   "source": [
    "t01, t12, t10, t21, r01, r12, phi, phi1, phi2 = sp.symbols( \n",
    "    't_{01} t_{12} t_{10} t_{21} r_{01} r_{12} phi phi1 phi2'\n",
    ") # reflection coefficients are sign-reversed. "
   ]
  },
  {
   "cell_type": "code",
   "execution_count": 5,
   "id": "56010970",
   "metadata": {},
   "outputs": [
    {
     "data": {
      "text/latex": [
       "$\\displaystyle \\frac{t_{01} t_{12} e^{i \\phi}}{r_{01} r_{12} e^{2 i \\phi} + 1}$"
      ],
      "text/plain": [
       "t_{01}*t_{12}*exp(I*phi)/(r_{01}*r_{12}*exp(2*I*phi) + 1)"
      ]
     },
     "execution_count": 5,
     "metadata": {},
     "output_type": "execute_result"
    }
   ],
   "source": [
    "def S11(t01, t12, r01, r12, phi):\n",
    "    return (t01 * t12) * sp.exp(sp.I * phi) / (1 + r01 * r12 * sp.exp(sp.I * 2 * phi) )\n",
    "    # return (t01 * t12) * sp.exp(sp.I * phi) / (1 + r01 * r12 ) # * sp.exp(sp.I * 2 * phi) )\n",
    "\n",
    "S11(t01, t12, r01, r12, phi)"
   ]
  },
  {
   "cell_type": "code",
   "execution_count": 6,
   "id": "436a4577",
   "metadata": {},
   "outputs": [
    {
     "data": {
      "text/latex": [
       "$\\displaystyle - \\frac{r_{01} t_{12} t_{21} e^{- 2 i \\phi}}{r_{01} r_{12} e^{- 2 i \\phi} + 1} - r_{12}$"
      ],
      "text/plain": [
       "-r_{01}*t_{12}*t_{21}*exp(-2*I*phi)/(r_{01}*r_{12}*exp(-2*I*phi) + 1) - r_{12}"
      ]
     },
     "execution_count": 6,
     "metadata": {},
     "output_type": "execute_result"
    }
   ],
   "source": [
    "def S12(r12, t21, r01, t12, phi):\n",
    "    return -r12 + ( -r01 * t21 * t12 * sp.exp( -sp.I*2*phi) ) / ( 1 + r01*r12*sp.exp( -sp.I*2*phi ) )\n",
    "    # return -r12 + ( -r01*t21*t12 ) / ( 1 + r01*r12 ) #*sp.exp( -sp.I*2*phi ) )\n",
    "\n",
    "S12(r12, t21, r01, t12, phi)"
   ]
  },
  {
   "cell_type": "code",
   "execution_count": 7,
   "id": "f9bc91a1",
   "metadata": {},
   "outputs": [
    {
     "data": {
      "text/latex": [
       "$\\displaystyle r_{01} + \\frac{r_{12} t_{01} t_{10} e^{2 i \\phi}}{r_{01} r_{12} e^{2 i \\phi} + 1}$"
      ],
      "text/plain": [
       "r_{01} + r_{12}*t_{01}*t_{10}*exp(2*I*phi)/(r_{01}*r_{12}*exp(2*I*phi) + 1)"
      ]
     },
     "execution_count": 7,
     "metadata": {},
     "output_type": "execute_result"
    }
   ],
   "source": [
    "def S21( r01, t01, r12, t10, phi ):\n",
    "    return r01 + (t01*r12*t10 * sp.exp( sp.I*2*phi ) ) / (1 +r01*r12*sp.exp( sp.I*2*phi ) )\n",
    "    # return r01 + (t01*r12*t10 ) / (1 +r01*r12 ) #*sp.exp( sp.I*2*phi ) )\n",
    "\n",
    "S21( r01, t01, r12, t10, phi )"
   ]
  },
  {
   "cell_type": "code",
   "execution_count": 8,
   "id": "43cdc4e4",
   "metadata": {},
   "outputs": [
    {
     "data": {
      "text/latex": [
       "$\\displaystyle \\frac{t_{10} t_{21} e^{- i \\phi}}{r_{01} r_{12} e^{- 2 i \\phi} + 1}$"
      ],
      "text/plain": [
       "t_{10}*t_{21}*exp(-I*phi)/(r_{01}*r_{12}*exp(-2*I*phi) + 1)"
      ]
     },
     "execution_count": 8,
     "metadata": {},
     "output_type": "execute_result"
    }
   ],
   "source": [
    "def S22( t21, t10, r01, r12, phi ):\n",
    "    return (t21*t10 )*sp.exp( -sp.I*phi ) / ( 1 + r01*r12*sp.exp( -sp.I*2*phi ) )\n",
    "\n",
    "S22( t21, t10, r01, r12, phi )"
   ]
  },
  {
   "cell_type": "code",
   "execution_count": 9,
   "id": "ccf53600",
   "metadata": {},
   "outputs": [
    {
     "data": {
      "text/latex": [
       "$\\displaystyle \\left[\\begin{matrix}\\frac{t_{01} t_{12} e^{i \\phi}}{r_{01} r_{12} e^{2 i \\phi} + 1} & - \\frac{r_{01} t_{12} t_{21} e^{- 2 i \\phi}}{r_{01} r_{12} e^{- 2 i \\phi} + 1} - r_{12}\\\\r_{01} + \\frac{r_{12} t_{01} t_{10} e^{2 i \\phi}}{r_{01} r_{12} e^{2 i \\phi} + 1} & \\frac{t_{10} t_{21} e^{- i \\phi}}{r_{01} r_{12} e^{- 2 i \\phi} + 1}\\end{matrix}\\right]$"
      ],
      "text/plain": [
       "Matrix([\n",
       "[                  t_{01}*t_{12}*exp(I*phi)/(r_{01}*r_{12}*exp(2*I*phi) + 1), -r_{01}*t_{12}*t_{21}*exp(-2*I*phi)/(r_{01}*r_{12}*exp(-2*I*phi) + 1) - r_{12}],\n",
       "[r_{01} + r_{12}*t_{01}*t_{10}*exp(2*I*phi)/(r_{01}*r_{12}*exp(2*I*phi) + 1),                    t_{10}*t_{21}*exp(-I*phi)/(r_{01}*r_{12}*exp(-2*I*phi) + 1)]])"
      ]
     },
     "execution_count": 9,
     "metadata": {},
     "output_type": "execute_result"
    }
   ],
   "source": [
    "def S( t01, t10, t12, t21, r01, r12, phi ):\n",
    "    return sp.Matrix( \n",
    "        [ \n",
    "            [ S11( t01, t12, r01, r12, phi ), S12( r12, t21, r01, t12, phi ) ], \n",
    "            [ S21( r01, t01, r12, t10, phi ), S22( t21, t10, r01, r12, phi ) ]\n",
    "        ]\n",
    "    )\n",
    "\n",
    "S( t01, t10, t12, t21, r01, r12, phi )"
   ]
  },
  {
   "cell_type": "markdown",
   "id": "e18a6c25",
   "metadata": {},
   "source": [
    "# Sanity checks"
   ]
  },
  {
   "cell_type": "markdown",
   "id": "6cefdbe9",
   "metadata": {},
   "source": [
    "## Free-space transmission"
   ]
  },
  {
   "cell_type": "code",
   "execution_count": 10,
   "id": "bfdd27a2",
   "metadata": {},
   "outputs": [
    {
     "data": {
      "text/latex": [
       "$\\displaystyle \\left[\\begin{matrix}e^{i \\phi} & 0\\\\0 & e^{- i \\phi}\\end{matrix}\\right]$"
      ],
      "text/plain": [
       "Matrix([\n",
       "[exp(I*phi),           0],\n",
       "[         0, exp(-I*phi)]])"
      ]
     },
     "execution_count": 10,
     "metadata": {},
     "output_type": "execute_result"
    }
   ],
   "source": [
    "S( 1, 1, 1, 1, 0, 0, phi )"
   ]
  },
  {
   "cell_type": "code",
   "execution_count": 11,
   "id": "184ab054",
   "metadata": {},
   "outputs": [
    {
     "data": {
      "text/latex": [
       "$\\displaystyle \\left[\\begin{matrix}e^{i \\left(\\phi_{1} + \\phi_{2}\\right)} & 0\\\\0 & e^{i \\left(- \\phi_{1} - \\phi_{2}\\right)}\\end{matrix}\\right]$"
      ],
      "text/plain": [
       "Matrix([\n",
       "[exp(I*(phi1 + phi2)),                     0],\n",
       "[                   0, exp(I*(-phi1 - phi2))]])"
      ]
     },
     "execution_count": 11,
     "metadata": {},
     "output_type": "execute_result"
    }
   ],
   "source": [
    "sp.simplify( S( 1, 1, 1, 1, 0, 0, phi2 ) @ S( 1, 1, 1, 1, 0, 0, phi1 ) )"
   ]
  },
  {
   "cell_type": "markdown",
   "id": "16453bbe",
   "metadata": {},
   "source": [
    "# Concatenating identical blocks"
   ]
  },
  {
   "cell_type": "code",
   "execution_count": 12,
   "id": "6328487a",
   "metadata": {},
   "outputs": [],
   "source": [
    "S1 = S( t01, t10, 1, 1, r01, 0, phi )\n",
    "S2 = S( 1, 1, t10, t01, 0, -r01, phi )"
   ]
  },
  {
   "cell_type": "code",
   "execution_count": 13,
   "id": "79fea10f",
   "metadata": {},
   "outputs": [
    {
     "data": {
      "text/latex": [
       "$\\displaystyle \\left[\\begin{matrix}t_{01} e^{i \\phi} & - r_{01} e^{- 2 i \\phi}\\\\r_{01} & t_{10} e^{- i \\phi}\\end{matrix}\\right]$"
      ],
      "text/plain": [
       "Matrix([\n",
       "[t_{01}*exp(I*phi), -r_{01}*exp(-2*I*phi)],\n",
       "[           r_{01},    t_{10}*exp(-I*phi)]])"
      ]
     },
     "execution_count": 13,
     "metadata": {},
     "output_type": "execute_result"
    }
   ],
   "source": [
    "S1"
   ]
  },
  {
   "cell_type": "code",
   "execution_count": 14,
   "id": "e3a5aa2d",
   "metadata": {},
   "outputs": [
    {
     "data": {
      "text/latex": [
       "$\\displaystyle \\left[\\begin{matrix}t_{10} e^{i \\phi} & r_{01}\\\\- r_{01} e^{2 i \\phi} & t_{01} e^{- i \\phi}\\end{matrix}\\right]$"
      ],
      "text/plain": [
       "Matrix([\n",
       "[   t_{10}*exp(I*phi),             r_{01}],\n",
       "[-r_{01}*exp(2*I*phi), t_{01}*exp(-I*phi)]])"
      ]
     },
     "execution_count": 14,
     "metadata": {},
     "output_type": "execute_result"
    }
   ],
   "source": [
    "S2"
   ]
  },
  {
   "cell_type": "code",
   "execution_count": 15,
   "id": "5d58159d",
   "metadata": {},
   "outputs": [
    {
     "data": {
      "text/latex": [
       "$\\displaystyle \\left[\\begin{matrix}r_{01}^{2} + t_{01} t_{10} e^{2 i \\phi} & 0\\\\- r_{01} t_{01} e^{3 i \\phi} + r_{01} t_{01} e^{- i \\phi} & r_{01}^{2} + t_{01} t_{10} e^{- 2 i \\phi}\\end{matrix}\\right]$"
      ],
      "text/plain": [
       "Matrix([\n",
       "[                 r_{01}**2 + t_{01}*t_{10}*exp(2*I*phi),                                       0],\n",
       "[-r_{01}*t_{01}*exp(3*I*phi) + r_{01}*t_{01}*exp(-I*phi), r_{01}**2 + t_{01}*t_{10}*exp(-2*I*phi)]])"
      ]
     },
     "execution_count": 15,
     "metadata": {},
     "output_type": "execute_result"
    }
   ],
   "source": [
    "S2 @ S1"
   ]
  },
  {
   "cell_type": "code",
   "execution_count": 16,
   "id": "2356105f",
   "metadata": {},
   "outputs": [
    {
     "data": {
      "text/latex": [
       "$\\displaystyle \\left[\\begin{matrix}\\frac{t_{01} t_{10} e^{2 i \\phi}}{- r_{01}^{2} e^{4 i \\phi} + 1} & - \\frac{r_{01} t_{01} t_{10} e^{- 4 i \\phi}}{- r_{01}^{2} e^{- 4 i \\phi} + 1} + r_{01}\\\\- \\frac{r_{01} t_{01} t_{10} e^{4 i \\phi}}{- r_{01}^{2} e^{4 i \\phi} + 1} + r_{01} & \\frac{t_{01} t_{10} e^{- 2 i \\phi}}{- r_{01}^{2} e^{- 4 i \\phi} + 1}\\end{matrix}\\right]$"
      ],
      "text/plain": [
       "Matrix([\n",
       "[                 t_{01}*t_{10}*exp(2*I*phi)/(-r_{01}**2*exp(4*I*phi) + 1), -r_{01}*t_{01}*t_{10}*exp(-4*I*phi)/(-r_{01}**2*exp(-4*I*phi) + 1) + r_{01}],\n",
       "[-r_{01}*t_{01}*t_{10}*exp(4*I*phi)/(-r_{01}**2*exp(4*I*phi) + 1) + r_{01},                  t_{01}*t_{10}*exp(-2*I*phi)/(-r_{01}**2*exp(-4*I*phi) + 1)]])"
      ]
     },
     "execution_count": 16,
     "metadata": {},
     "output_type": "execute_result"
    }
   ],
   "source": [
    "S( t01, t10, t10, t01, r01, -r01, 2*phi )"
   ]
  },
  {
   "cell_type": "code",
   "execution_count": null,
   "id": "cd117a83",
   "metadata": {},
   "outputs": [],
   "source": []
  }
 ],
 "metadata": {
  "kernelspec": {
   "display_name": "analysis",
   "language": "python",
   "name": "python3"
  },
  "language_info": {
   "codemirror_mode": {
    "name": "ipython",
    "version": 3
   },
   "file_extension": ".py",
   "mimetype": "text/x-python",
   "name": "python",
   "nbconvert_exporter": "python",
   "pygments_lexer": "ipython3",
   "version": "3.11.10"
  }
 },
 "nbformat": 4,
 "nbformat_minor": 5
}
