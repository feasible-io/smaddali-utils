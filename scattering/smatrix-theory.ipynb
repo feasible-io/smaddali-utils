{
 "cells": [
  {
   "cell_type": "markdown",
   "id": "88255e86",
   "metadata": {},
   "source": [
    "# S-matrix theory"
   ]
  },
  {
   "cell_type": "code",
   "execution_count": 1,
   "id": "76ae5df1",
   "metadata": {},
   "outputs": [],
   "source": [
    "import numpy as np\n",
    "import matplotlib as plt\n",
    "import sympy as sp\n",
    "\n",
    "from logzero import logger\n",
    "from IPython.display import display, Math\n",
    "\n",
    "%matplotlib widget"
   ]
  },
  {
   "cell_type": "markdown",
   "id": "8bdd9c4a",
   "metadata": {},
   "source": [
    "# Deriving the Redheffer star product"
   ]
  },
  {
   "cell_type": "code",
   "execution_count": 19,
   "id": "cd71bc17",
   "metadata": {},
   "outputs": [
    {
     "name": "stderr",
     "output_type": "stream",
     "text": [
      "[I 250901 17:44:48 1224141417:9] Intermediate solution: \n"
     ]
    },
    {
     "data": {
      "text/latex": [
       "$\\displaystyle \\Large\\frac{- A_{11} B_{21} x_{1} - B_{22} x_{2}}{A_{12} B_{21} - 1}$"
      ],
      "text/plain": [
       "<IPython.core.display.Math object>"
      ]
     },
     "metadata": {},
     "output_type": "display_data"
    },
    {
     "data": {
      "text/latex": [
       "$\\displaystyle \\Large\\frac{- A_{11} x_{1} - A_{12} B_{22} x_{2}}{A_{12} B_{21} - 1}$"
      ],
      "text/plain": [
       "<IPython.core.display.Math object>"
      ]
     },
     "metadata": {},
     "output_type": "display_data"
    }
   ],
   "source": [
    "x1, x2, x3, x4, x5, x6 = sp.symbols( ' '.join( [ 'x_%d'%i for i in range( 1, 7 ) ] ) )\n",
    "A11, A12, A21, A22 = sp.symbols( ' '.join( [ 'A_{%d%d}'%( i, j ) for i in [1,2] for j in [1,2] ] ) )\n",
    "B11, B12, B21, B22 = sp.symbols( ' '.join( [ 'B_{%d%d}'%( i, j ) for i in [1,2] for j in [1,2] ] ) )\n",
    "\n",
    "eq1 = A11*x1 + A12*x5 - x6\n",
    "eq2 = B21*x6 + B22*x2 - x5\n",
    "intermediate_solution = sp.linsolve( [ eq1, eq2  ], ( x5, x6 ) )\n",
    "x5, x6 = list( intermediate_solution )[0]\n",
    "logger.info( 'Intermediate solution: ' )\n",
    "for exp, lbl in zip( [ x5, x6 ], [ 'x_5', 'x_6' ] ):\n",
    "    display( Math( f'\\\\Large{sp.latex( exp )}' ) )"
   ]
  },
  {
   "cell_type": "code",
   "execution_count": 18,
   "id": "9eb31fa5",
   "metadata": {},
   "outputs": [
    {
     "name": "stderr",
     "output_type": "stream",
     "text": [
      "[I 250901 17:34:32 328423006:5] Final solution: \n"
     ]
    },
    {
     "data": {
      "text/latex": [
       "$\\displaystyle \\Large\\frac{- A_{11} B_{11} x_{1} - A_{12} B_{11} B_{22} x_{2} + A_{12} B_{12} B_{21} x_{2} - B_{12} x_{2}}{A_{12} B_{21} - 1}$"
      ],
      "text/plain": [
       "<IPython.core.display.Math object>"
      ]
     },
     "metadata": {},
     "output_type": "display_data"
    },
    {
     "data": {
      "text/latex": [
       "$\\displaystyle \\Large\\frac{- A_{11} A_{22} B_{21} x_{1} + A_{12} A_{21} B_{21} x_{1} - A_{21} x_{1} - A_{22} B_{22} x_{2}}{A_{12} B_{21} - 1}$"
      ],
      "text/plain": [
       "<IPython.core.display.Math object>"
      ]
     },
     "metadata": {},
     "output_type": "display_data"
    }
   ],
   "source": [
    "eq3 = B11*x6 + B12*x2 - x3\n",
    "eq4 = A21*x1 + A22*x5 - x4\n",
    "final_solution = sp.linsolve( [ eq3, eq4 ], ( x3, x4 ) )\n",
    "x3, x4 = list( final_solution )[0]\n",
    "logger.info( 'Final solution: ' )\n",
    "for exp, lbl in zip( [ x3, x4 ], [ 'x_3', 'x_4' ] ):\n",
    "    display( Math( f'\\\\Large{sp.latex( sp.simplify( exp ) )}' ) )\n",
    "\n",
    "eq5 = list( final_solution )[0][0] - sp.symbols( 'x3' )\n",
    "eq6 = list( final_solution )[0][1] - sp.symbols( 'x4' )\n",
    "S, coeff = sp.linear_eq_to_matrix( [ eq5, eq6 ], ( x1, x2 ) )"
   ]
  },
  {
   "cell_type": "code",
   "execution_count": 3,
   "id": "0a77aff1",
   "metadata": {},
   "outputs": [
    {
     "name": "stderr",
     "output_type": "stream",
     "text": [
      "[I 250831 23:58:31 283930408:1] Final S-matrix: \n"
     ]
    },
    {
     "data": {
      "text/latex": [
       "$\\displaystyle \\Large\\left[\\begin{matrix}- \\frac{A_{11} B_{11}}{A_{12} B_{21} - 1} & \\frac{- A_{12} B_{11} B_{22} + A_{12} B_{12} B_{21} - B_{12}}{A_{12} B_{21} - 1}\\\\\\frac{- A_{11} A_{22} B_{21} + A_{12} A_{21} B_{21} - A_{21}}{A_{12} B_{21} - 1} & - \\frac{A_{22} B_{22}}{A_{12} B_{21} - 1}\\end{matrix}\\right]$"
      ],
      "text/plain": [
       "<IPython.core.display.Math object>"
      ]
     },
     "metadata": {},
     "output_type": "display_data"
    }
   ],
   "source": [
    "logger.info( 'Final S-matrix: ' )\n",
    "Sl = sp.latex(sp.simplify(S))\n",
    "display( Math( f'\\\\Large{sp.latex(sp.simplify(S))}' ) )"
   ]
  },
  {
   "cell_type": "markdown",
   "id": "9b9cc153",
   "metadata": {},
   "source": [
    "# S-matrix elements for 1-D scattering"
   ]
  },
  {
   "cell_type": "code",
   "execution_count": 4,
   "id": "fbcef91c",
   "metadata": {},
   "outputs": [],
   "source": [
    "t01, t12, t10, t21, r01, r12, phi, phi1, phi2 = sp.symbols( \n",
    "    't_{01} t_{12} t_{10} t_{21} r_{01} r_{12} phi phi1 phi2'\n",
    ") # reflection coefficients are sign-reversed. "
   ]
  },
  {
   "cell_type": "code",
   "execution_count": 5,
   "id": "56010970",
   "metadata": {},
   "outputs": [
    {
     "data": {
      "text/latex": [
       "$\\displaystyle \\frac{t_{01} t_{12} e^{i \\phi}}{r_{01} r_{12} e^{2 i \\phi} + 1}$"
      ],
      "text/plain": [
       "t_{01}*t_{12}*exp(I*phi)/(r_{01}*r_{12}*exp(2*I*phi) + 1)"
      ]
     },
     "execution_count": 5,
     "metadata": {},
     "output_type": "execute_result"
    }
   ],
   "source": [
    "def S11(t01, t12, r01, r12, phi):\n",
    "    return (t01 * t12) * sp.exp(sp.I * phi) / (1 + r01 * r12 * sp.exp(sp.I * 2 * phi) )\n",
    "    # return (t01 * t12) * sp.exp(sp.I * phi) / (1 + r01 * r12 ) # * sp.exp(sp.I * 2 * phi) )\n",
    "\n",
    "S11(t01, t12, r01, r12, phi)"
   ]
  },
  {
   "cell_type": "code",
   "execution_count": 6,
   "id": "436a4577",
   "metadata": {},
   "outputs": [
    {
     "data": {
      "text/latex": [
       "$\\displaystyle - \\frac{r_{01} t_{12} t_{21} e^{- 2 i \\phi}}{r_{01} r_{12} e^{- 2 i \\phi} + 1} - r_{12}$"
      ],
      "text/plain": [
       "-r_{01}*t_{12}*t_{21}*exp(-2*I*phi)/(r_{01}*r_{12}*exp(-2*I*phi) + 1) - r_{12}"
      ]
     },
     "execution_count": 6,
     "metadata": {},
     "output_type": "execute_result"
    }
   ],
   "source": [
    "def S12(r12, t21, r01, t12, phi):\n",
    "    return -r12 + ( -r01 * t21 * t12 * sp.exp( -sp.I*2*phi) ) / ( 1 + r01*r12*sp.exp( -sp.I*2*phi ) )\n",
    "    # return -r12 + ( -r01*t21*t12 ) / ( 1 + r01*r12 ) #*sp.exp( -sp.I*2*phi ) )\n",
    "\n",
    "S12(r12, t21, r01, t12, phi)"
   ]
  },
  {
   "cell_type": "code",
   "execution_count": 7,
   "id": "f9bc91a1",
   "metadata": {},
   "outputs": [
    {
     "data": {
      "text/latex": [
       "$\\displaystyle r_{01} + \\frac{r_{12} t_{01} t_{10} e^{2 i \\phi}}{r_{01} r_{12} e^{2 i \\phi} + 1}$"
      ],
      "text/plain": [
       "r_{01} + r_{12}*t_{01}*t_{10}*exp(2*I*phi)/(r_{01}*r_{12}*exp(2*I*phi) + 1)"
      ]
     },
     "execution_count": 7,
     "metadata": {},
     "output_type": "execute_result"
    }
   ],
   "source": [
    "def S21( r01, t01, r12, t10, phi ):\n",
    "    return r01 + (t01*r12*t10 * sp.exp( sp.I*2*phi ) ) / (1 +r01*r12*sp.exp( sp.I*2*phi ) )\n",
    "    # return r01 + (t01*r12*t10 ) / (1 +r01*r12 ) #*sp.exp( sp.I*2*phi ) )\n",
    "\n",
    "S21( r01, t01, r12, t10, phi )"
   ]
  },
  {
   "cell_type": "code",
   "execution_count": 8,
   "id": "43cdc4e4",
   "metadata": {},
   "outputs": [
    {
     "data": {
      "text/latex": [
       "$\\displaystyle \\frac{t_{10} t_{21} e^{- i \\phi}}{r_{01} r_{12} e^{- 2 i \\phi} + 1}$"
      ],
      "text/plain": [
       "t_{10}*t_{21}*exp(-I*phi)/(r_{01}*r_{12}*exp(-2*I*phi) + 1)"
      ]
     },
     "execution_count": 8,
     "metadata": {},
     "output_type": "execute_result"
    }
   ],
   "source": [
    "def S22( t21, t10, r01, r12, phi ):\n",
    "    return (t21*t10 )*sp.exp( -sp.I*phi ) / ( 1 + r01*r12*sp.exp( -sp.I*2*phi ) )\n",
    "\n",
    "S22( t21, t10, r01, r12, phi )"
   ]
  }
 ],
 "metadata": {
  "kernelspec": {
   "display_name": "analysis",
   "language": "python",
   "name": "python3"
  },
  "language_info": {
   "codemirror_mode": {
    "name": "ipython",
    "version": 3
   },
   "file_extension": ".py",
   "mimetype": "text/x-python",
   "name": "python",
   "nbconvert_exporter": "python",
   "pygments_lexer": "ipython3",
   "version": "3.11.10"
  }
 },
 "nbformat": 4,
 "nbformat_minor": 5
}
