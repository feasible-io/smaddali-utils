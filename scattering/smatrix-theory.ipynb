{
 "cells": [
  {
   "cell_type": "markdown",
   "id": "88255e86",
   "metadata": {},
   "source": [
    "# S-matrix theory"
   ]
  },
  {
   "cell_type": "code",
   "execution_count": 1,
   "id": "76ae5df1",
   "metadata": {},
   "outputs": [],
   "source": [
    "import numpy as np\n",
    "import matplotlib as plt\n",
    "import sympy as sp\n",
    "\n",
    "from logzero import logger\n",
    "from IPython.display import display, Math\n",
    "\n",
    "%matplotlib widget"
   ]
  },
  {
   "cell_type": "markdown",
   "id": "3702781e",
   "metadata": {},
   "source": [
    "# Composing scattering at interfaces"
   ]
  },
  {
   "cell_type": "code",
   "execution_count": 2,
   "id": "84356d21",
   "metadata": {},
   "outputs": [],
   "source": [
    "x1, x2, x3, x4, x5, x6 = sp.symbols( ' '.join( [ 'x_%d'%i for i in range( 1, 7 ) ] ) )\n",
    "T12, T21, R12, R21 = sp.symbols( ' '.join( [ f'{lbl}{n%2+1}{(n+1)%2+1}' for lbl in [ 'T', 'R' ] for n in [ 0, 1 ] ] ) ) \n",
    "T23, T32, R23, R32 = sp.symbols( ' '.join( [ f'{lbl}{n%2+2}{(n+1)%2+2}' for lbl in [ 'T', 'R' ] for n in [ 0, 1 ] ] ) ) \n",
    "k, L = sp.symbols( 'k L' )"
   ]
  },
  {
   "cell_type": "code",
   "execution_count": 3,
   "id": "16bf7742",
   "metadata": {},
   "outputs": [],
   "source": [
    "# intermediate solution\n",
    "eq1 = T12*x1 + R21*x5 - x6\n",
    "eq2 = R12*x1 + T21*x5 - x4\n",
    "intermediate_solution = sp.linsolve( [ eq1, eq2 ], ( x5, x6 ) )\n",
    "x5, x6 = list( intermediate_solution )[0]"
   ]
  },
  {
   "cell_type": "code",
   "execution_count": 4,
   "id": "4b3f1bff",
   "metadata": {},
   "outputs": [
    {
     "data": {
      "text/latex": [
       "$\\displaystyle \\frac{- R_{12} x_{1} + x_{4}}{T_{21}}$"
      ],
      "text/plain": [
       "(-R12*x_1 + x_4)/T21"
      ]
     },
     "execution_count": 4,
     "metadata": {},
     "output_type": "execute_result"
    }
   ],
   "source": [
    "x5"
   ]
  },
  {
   "cell_type": "code",
   "execution_count": 5,
   "id": "4bd3231c",
   "metadata": {},
   "outputs": [
    {
     "data": {
      "text/latex": [
       "$\\displaystyle \\frac{- R_{12} R_{21} x_{1} + R_{21} x_{4} + T_{12} T_{21} x_{1}}{T_{21}}$"
      ],
      "text/plain": [
       "(-R12*R21*x_1 + R21*x_4 + T12*T21*x_1)/T21"
      ]
     },
     "execution_count": 5,
     "metadata": {},
     "output_type": "execute_result"
    }
   ],
   "source": [
    "sp.simplify( x6 )"
   ]
  },
  {
   "cell_type": "code",
   "execution_count": 6,
   "id": "5f446193",
   "metadata": {},
   "outputs": [
    {
     "name": "stderr",
     "output_type": "stream",
     "text": [
      "[I 250923 11:58:14 1315166222:9] Final solution: \n"
     ]
    },
    {
     "data": {
      "text/latex": [
       "$\\displaystyle \\Large\\frac{R_{21} R_{23} R_{32} x_{2} e^{2 i L k} - R_{21} T_{23} T_{32} x_{2} e^{2 i L k} - R_{32} x_{2} - T_{12} T_{23} x_{1} e^{i L k}}{R_{21} R_{23} e^{2 i L k} - 1}$"
      ],
      "text/plain": [
       "<IPython.core.display.Math object>"
      ]
     },
     "metadata": {},
     "output_type": "display_data"
    },
    {
     "data": {
      "text/latex": [
       "$\\displaystyle \\Large\\frac{R_{12} R_{21} R_{23} x_{1} e^{2 i L k} - R_{12} x_{1} - R_{23} T_{12} T_{21} x_{1} e^{2 i L k} - T_{21} T_{32} x_{2} e^{i L k}}{R_{21} R_{23} e^{2 i L k} - 1}$"
      ],
      "text/plain": [
       "<IPython.core.display.Math object>"
      ]
     },
     "metadata": {},
     "output_type": "display_data"
    }
   ],
   "source": [
    "# final solution\n",
    "w = sp.exp( sp.I*k*L )\n",
    "wconj = sp.exp( -sp.I*k*L)\n",
    "eq3 = T23*x6*w + R32*x2 - x3\n",
    "eq4 = R23*x6*w + T32*x2 - x5*wconj\n",
    "final_solution  = sp.linsolve( [ eq3, eq4 ], ( x3, x4 ) )\n",
    "x3, x4 = list( final_solution )[0] \n",
    "\n",
    "logger.info( 'Final solution: ' )\n",
    "for exp, lbl in zip( [ x3, x4 ], [ 'x_3', 'x_4' ] ):\n",
    "    display( Math( f'\\\\Large{sp.latex( sp.simplify( exp ) )}' ) )\n",
    "\n",
    "eq5 = list( final_solution )[0][0] - sp.symbols( 'x3' )\n",
    "eq6 = list( final_solution )[0][1] - sp.symbols( 'x4' )\n",
    "S, coeff = sp.linear_eq_to_matrix( [ eq5, eq6 ], ( x1, x2 ) )"
   ]
  },
  {
   "cell_type": "code",
   "execution_count": 7,
   "id": "d551fa22",
   "metadata": {},
   "outputs": [
    {
     "name": "stderr",
     "output_type": "stream",
     "text": [
      "[I 250923 11:58:14 283930408:1] Final S-matrix: \n"
     ]
    },
    {
     "data": {
      "text/latex": [
       "$\\displaystyle \\Large\\left[\\begin{matrix}- \\frac{T_{12} T_{23} e^{i L k}}{R_{21} R_{23} e^{2 i L k} - 1} & \\frac{R_{21} R_{23} R_{32} e^{2 i L k} - R_{21} T_{23} T_{32} e^{2 i L k} - R_{32}}{R_{21} R_{23} e^{2 i L k} - 1}\\\\\\frac{R_{12} R_{21} R_{23} e^{2 i L k} - R_{12} - R_{23} T_{12} T_{21} e^{2 i L k}}{R_{21} R_{23} e^{2 i L k} - 1} & - \\frac{T_{21} T_{32} e^{i L k}}{R_{21} R_{23} e^{2 i L k} - 1}\\end{matrix}\\right]$"
      ],
      "text/plain": [
       "<IPython.core.display.Math object>"
      ]
     },
     "metadata": {},
     "output_type": "display_data"
    }
   ],
   "source": [
    "logger.info( 'Final S-matrix: ' )\n",
    "Sl = sp.latex(sp.simplify(S))\n",
    "display( Math( f'\\\\Large{sp.latex(sp.simplify(S))}' ) )"
   ]
  },
  {
   "cell_type": "markdown",
   "id": "6eb87752",
   "metadata": {},
   "source": [
    "# Does the Redheffer product support this?"
   ]
  },
  {
   "cell_type": "code",
   "execution_count": 8,
   "id": "066851e9",
   "metadata": {},
   "outputs": [],
   "source": [
    "def smatrix( A11, A12, A21, A22, k, L ):\n",
    "    '''\n",
    "    S-matrix for a single interface with given reflection/transmission coefficients, \n",
    "    located L (1-D) and intervening medium corresponding to a wave vector k. \n",
    "    '''\n",
    "    w = sp.exp( sp.I * k * L )\n",
    "    return sp.Matrix( \n",
    "        [ \n",
    "            [ A11*w, A12 ], \n",
    "            [ A21*w*w, A22*w ]\n",
    "        ]\n",
    "    )\n",
    "\n",
    "def redheffer( A, B ):\n",
    "    denom = 1 - A[0,1]*B[1,0]\n",
    "    Mred = sp.Matrix( \n",
    "        [ \n",
    "            [ A[0,0]*B[0,0]/denom, B[0,1] + ( B[0,0]*B[1,1]*A[0,1] ) / denom ], \n",
    "            [ A[1,0] + ( A[0,0]*A[1,1]*B[1,0] ) / denom, A[1,1]*B[1,1]/denom ]\n",
    "        ]\n",
    "    )\n",
    "    return Mred"
   ]
  },
  {
   "cell_type": "code",
   "execution_count": 9,
   "id": "c9046fb1",
   "metadata": {},
   "outputs": [],
   "source": [
    "M0 = smatrix( T12, R21, R12, T21, k, 0 )\n",
    "M1 = smatrix( T23, R32, R23, T32, k, L )\n",
    "Mp = redheffer( M0, M1 )"
   ]
  },
  {
   "cell_type": "code",
   "execution_count": 10,
   "id": "949db2f2",
   "metadata": {},
   "outputs": [
    {
     "data": {
      "text/latex": [
       "$\\displaystyle \\left[\\begin{matrix}T_{12} & R_{21}\\\\R_{12} & T_{21}\\end{matrix}\\right]$"
      ],
      "text/plain": [
       "Matrix([\n",
       "[T12, R21],\n",
       "[R12, T21]])"
      ]
     },
     "execution_count": 10,
     "metadata": {},
     "output_type": "execute_result"
    }
   ],
   "source": [
    "M0"
   ]
  },
  {
   "cell_type": "code",
   "execution_count": 11,
   "id": "75f5120c",
   "metadata": {},
   "outputs": [
    {
     "data": {
      "text/latex": [
       "$\\displaystyle \\left[\\begin{matrix}T_{23} e^{i L k} & R_{32}\\\\R_{23} e^{2 i L k} & T_{32} e^{i L k}\\end{matrix}\\right]$"
      ],
      "text/plain": [
       "Matrix([\n",
       "[  T23*exp(I*L*k),            R32],\n",
       "[R23*exp(2*I*L*k), T32*exp(I*L*k)]])"
      ]
     },
     "execution_count": 11,
     "metadata": {},
     "output_type": "execute_result"
    }
   ],
   "source": [
    "M1"
   ]
  },
  {
   "cell_type": "code",
   "execution_count": 12,
   "id": "7b2d18f8",
   "metadata": {},
   "outputs": [
    {
     "data": {
      "text/latex": [
       "$\\displaystyle \\left[\\begin{matrix}- \\frac{T_{12} T_{23} e^{i L k}}{R_{21} R_{23} e^{2 i L k} - 1} & \\frac{- R_{21} T_{23} T_{32} e^{2 i L k} + R_{32} \\left(R_{21} R_{23} e^{2 i L k} - 1\\right)}{R_{21} R_{23} e^{2 i L k} - 1}\\\\\\frac{R_{12} \\left(R_{21} R_{23} e^{2 i L k} - 1\\right) - R_{23} T_{12} T_{21} e^{2 i L k}}{R_{21} R_{23} e^{2 i L k} - 1} & - \\frac{T_{21} T_{32} e^{i L k}}{R_{21} R_{23} e^{2 i L k} - 1}\\end{matrix}\\right]$"
      ],
      "text/plain": [
       "Matrix([\n",
       "[                                        -T12*T23*exp(I*L*k)/(R21*R23*exp(2*I*L*k) - 1), (-R21*T23*T32*exp(2*I*L*k) + R32*(R21*R23*exp(2*I*L*k) - 1))/(R21*R23*exp(2*I*L*k) - 1)],\n",
       "[(R12*(R21*R23*exp(2*I*L*k) - 1) - R23*T12*T21*exp(2*I*L*k))/(R21*R23*exp(2*I*L*k) - 1),                                          -T21*T32*exp(I*L*k)/(R21*R23*exp(2*I*L*k) - 1)]])"
      ]
     },
     "execution_count": 12,
     "metadata": {},
     "output_type": "execute_result"
    }
   ],
   "source": [
    "sp.simplify( Mp )"
   ]
  },
  {
   "cell_type": "code",
   "execution_count": 13,
   "id": "421f40ec",
   "metadata": {},
   "outputs": [
    {
     "data": {
      "text/latex": [
       "$\\displaystyle \\left[\\begin{matrix}- \\frac{T_{12} T_{23} e^{i L k}}{R_{21} R_{23} e^{2 i L k} - 1} & \\frac{R_{21} R_{23} R_{32} e^{2 i L k} - R_{21} T_{23} T_{32} e^{2 i L k} - R_{32}}{R_{21} R_{23} e^{2 i L k} - 1}\\\\\\frac{R_{12} R_{21} R_{23} e^{2 i L k} - R_{12} - R_{23} T_{12} T_{21} e^{2 i L k}}{R_{21} R_{23} e^{2 i L k} - 1} & - \\frac{T_{21} T_{32} e^{i L k}}{R_{21} R_{23} e^{2 i L k} - 1}\\end{matrix}\\right]$"
      ],
      "text/plain": [
       "Matrix([\n",
       "[                                        -T12*T23*exp(I*L*k)/(R21*R23*exp(2*I*L*k) - 1), (R21*R23*R32*exp(2*I*L*k) - R21*T23*T32*exp(2*I*L*k) - R32)/(R21*R23*exp(2*I*L*k) - 1)],\n",
       "[(R12*R21*R23*exp(2*I*L*k) - R12 - R23*T12*T21*exp(2*I*L*k))/(R21*R23*exp(2*I*L*k) - 1),                                         -T21*T32*exp(I*L*k)/(R21*R23*exp(2*I*L*k) - 1)]])"
      ]
     },
     "execution_count": 13,
     "metadata": {},
     "output_type": "execute_result"
    }
   ],
   "source": [
    "sp.simplify( S )"
   ]
  },
  {
   "cell_type": "code",
   "execution_count": 14,
   "id": "72fdca8f",
   "metadata": {},
   "outputs": [
    {
     "data": {
      "text/latex": [
       "$\\displaystyle \\left[\\begin{matrix}0 & 0\\\\0 & 0\\end{matrix}\\right]$"
      ],
      "text/plain": [
       "Matrix([\n",
       "[0, 0],\n",
       "[0, 0]])"
      ]
     },
     "execution_count": 14,
     "metadata": {},
     "output_type": "execute_result"
    }
   ],
   "source": [
    "sp.simplify( Mp - S )"
   ]
  }
 ],
 "metadata": {
  "kernelspec": {
   "display_name": "analysis",
   "language": "python",
   "name": "python3"
  },
  "language_info": {
   "codemirror_mode": {
    "name": "ipython",
    "version": 3
   },
   "file_extension": ".py",
   "mimetype": "text/x-python",
   "name": "python",
   "nbconvert_exporter": "python",
   "pygments_lexer": "ipython3",
   "version": "3.11.10"
  }
 },
 "nbformat": 4,
 "nbformat_minor": 5
}
