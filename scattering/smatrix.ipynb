{
 "cells": [
  {
   "cell_type": "markdown",
   "id": "2e42151c",
   "metadata": {},
   "source": [
    "# S-matrix modeling of acoustic scattering\n",
    "This notebook is intended to demonstrate the usefulness of simulations and acoustic modeling with the S-matrix formulation. \n",
    "The compact S-matrix offers a highly flexible alternative to full-fledged FDTD simulations along with several advantages over them. "
   ]
  },
  {
   "cell_type": "code",
   "execution_count": null,
   "id": "d703400c",
   "metadata": {},
   "outputs": [],
   "source": [
    "import time\n",
    "import numpy as np\n",
    "import matplotlib.pyplot as plt\n",
    "import numpy.fft as npft\n",
    "from logzero import logger\n",
    "\n",
    "from scipy.special import hermite\n",
    "\n",
    "import functools as ftls\n",
    "\n",
    "import Simulator \n",
    "import Pulse as pulse\n",
    "import smatrix as smat\n",
    "\n",
    "%matplotlib widget"
   ]
  },
  {
   "cell_type": "markdown",
   "id": "93e2456e",
   "metadata": {},
   "source": [
    "# User edit"
   ]
  },
  {
   "cell_type": "code",
   "execution_count": null,
   "id": "5384bfae",
   "metadata": {
    "tags": [
     "user-edit"
    ]
   },
   "outputs": [],
   "source": [
    "num_grid_points = 10000\n",
    "stack_thickness = 0.1\n",
    "num_steps = 50000\n",
    "\n",
    "# pulse details\n",
    "HG = 2\n",
    "pulse_location = -0.3\n",
    "pulse_width = 0.01\n",
    "\n",
    "def Square( chi ):\n",
    "    return ( np.abs( chi ) <= 0.5 ).astype( float )\n"
   ]
  },
  {
   "cell_type": "markdown",
   "id": "899e08e9",
   "metadata": {},
   "source": [
    "# Material-free simulation\n",
    "This is done in order to get the incident wave. "
   ]
  },
  {
   "cell_type": "code",
   "execution_count": null,
   "id": "aa6e4db9",
   "metadata": {},
   "outputs": [],
   "source": [
    "stack_materials = [ [ 1, 1 ] ]\n",
    "stack_layers = [ 'air' ]\n",
    "interface_locations = list( np.linspace( -stack_thickness/2, stack_thickness/2, len( stack_layers )-1 ) )\n",
    "interface_locations.insert( 0, -0.5 )\n",
    "interface_locations.append( 0.5 )\n",
    "stack = []\n",
    "for l, m, left, right in zip( stack_layers, stack_materials, interface_locations[:-1], interface_locations[1:] ):\n",
    "    stack.append( [ l, m[0], m[1], left, right ] )\n",
    "\n",
    "# defining initial waveform with constant-phase spectrum\n",
    "x = np.linspace( -0.5, 0.5, num_grid_points )\n",
    "chi = ( x - pulse_location ) / pulse_width\n",
    "\n",
    "# initial = Square( chi )\n",
    "initial = np.exp( -0.5 * chi**2 ) * hermite(HG)( chi )\n",
    "# initial = pulse.MysteryPulse( x, pulse_location, pulse_width, order=HG )\n",
    "# initial = np.roll( initial, np.argmin( np.abs( x-pulse_location ) )-x.size//2 )\n",
    "\n",
    "initial /= np.abs( initial ).max() \n",
    "# initial -= initial.mean()\n",
    "\n",
    "sim = Simulator.Simulator( num_grid_points=num_grid_points, stack=stack )\n",
    "sim.AddWaveform( initial )\n",
    "sim.SetUpMonitors( [ -stack_thickness/2, stack_thickness/2 ], visualization=True )\n",
    "sim.Run( visualize=False, n_iters=num_steps ) #, filename='demo.mp4' )\n"
   ]
  },
  {
   "cell_type": "markdown",
   "id": "ea1a56ee",
   "metadata": {},
   "source": [
    "# Extracting incident wave"
   ]
  },
  {
   "cell_type": "code",
   "execution_count": null,
   "id": "2baa9e63",
   "metadata": {},
   "outputs": [],
   "source": [
    "waves = [ val for _, val in sim.monitors.items() ] \n",
    "# waves[0] = np.pad( initial, ( ( 0, len( waves[0] ) - len( initial ) ) ) )\n",
    "t = sim.dt * np.arange( len( waves[0] ) )\n",
    "\n",
    "with plt.style.context( '~/Templates/custom.mplstyle' ):\n",
    "    plt.figure( figsize=( 12, 5 ) )\n",
    "    for n in range( 2 ):\n",
    "        plt.plot( t, waves[n], label=f'Rx{n}', linewidth=2 )\n",
    "    plt.grid()\n",
    "    plt.legend( title='Simulated measurements' )\n",
    "    plt.title( 'Wave simulation - free space' )\n",
    "    plt.show()\n",
    "\n",
    "incident_wave = np.array( waves[0] )"
   ]
  },
  {
   "cell_type": "markdown",
   "id": "89f5c298",
   "metadata": {},
   "source": [
    "# Stack simulation"
   ]
  },
  {
   "cell_type": "code",
   "execution_count": null,
   "id": "4c9418cb",
   "metadata": {},
   "outputs": [],
   "source": [
    "# multi-layer stack\n",
    "# stack_materials = [ [ 1, 1 ], [ 4., 1. ], [ 6., 1. ], [ 3.75, 1. ], [ 6., 1. ], [ 1, 1 ] ]\n",
    "# stack_layers = [ 'air', 'block1', 'block2', 'block3', 'block4', 'air' ]\n",
    "\n",
    "# two-layer stack\n",
    "stack_materials = [ [ 1, 1 ], [ 6., 1. ], [ 3., 1. ], [ 1, 1 ] ]\n",
    "stack_layers = [ 'air', 'block1', 'block2', 'air' ]\n",
    "\n",
    "# # # three-layer stack\n",
    "# stack_materials = [ [ 1, 1 ], [ 6., 1. ], [ 8., 1. ],  [ 6., 1. ], [ 1, 1 ] ]\n",
    "# stack_layers = [ 'air', 'block1', 'block2', 'block1', 'air' ]\n",
    "\n",
    "\n",
    "interface_locations = list( np.linspace( -stack_thickness/2, stack_thickness/2, len( stack_layers )-1 ) )\n",
    "interface_locations.insert( 0, -0.5 )\n",
    "interface_locations.append( 0.5 )\n",
    "stack = []\n",
    "for l, m, left, right in zip( stack_layers, stack_materials, interface_locations[:-1], interface_locations[1:] ):\n",
    "    stack.append( [ l, m[0], m[1], left, right ] )\n",
    "\n",
    "# # defining initial waveform\n",
    "# initial = -pulse.HermiteGauss( np.linspace( -0.5, 0.5, num_grid_points ), location=-0.3, spread=0.025, order=HG )\n",
    "# initial /= np.abs( initial ).max() \n",
    "\n",
    "sim = Simulator.Simulator( num_grid_points=num_grid_points, stack=stack )\n",
    "sim.AddWaveform( initial )\n",
    "plt.figure(); sim.SetUpPlot( figsize=( 12, 4 ) )\n",
    "sim.SetUpMonitors( [ -stack_thickness/2, stack_thickness/2 ], visualization=True )\n",
    "sim.Run( visualize=False, n_iters=num_steps ) #, filename='demo.mp4' )\n"
   ]
  },
  {
   "cell_type": "markdown",
   "id": "af60db2d",
   "metadata": {},
   "source": [
    "# Extracting simulated waveforms"
   ]
  },
  {
   "cell_type": "code",
   "execution_count": null,
   "id": "ed663a10",
   "metadata": {},
   "outputs": [],
   "source": [
    "waves_measured = [ np.array( val ) for _, val in sim.monitors.items() ] \n",
    "wave_reflected = [ a-b for a, b in zip( waves_measured[0], incident_wave ) ]\n",
    "energy = []\n",
    "with plt.style.context( '~/Templates/custom.mplstyle' ):\n",
    "    plt.figure( figsize=( 12, 5 ) )\n",
    "    for n, ( wav, lbl ) in enumerate( zip( [ incident_wave, wave_reflected, waves_measured[1] ], [ 'Incident', 'Reflected', 'Transmitted' ] ) ):\n",
    "        E = sim.dt*( np.abs( wav )**2 ).sum()\n",
    "        energy.append( E )\n",
    "        logger.info( f'{lbl} energy\\t= {E:.3e}' )\n",
    "        plt.plot( t, wav, label=lbl, linewidth=2 )\n",
    "    plt.grid()\n",
    "    plt.legend( title='Simulated pulses' )\n",
    "    plt.title( 'Time-domain simulation' )\n",
    "    plt.xlabel( 't (arb. units)' )\n",
    "    plt.ylabel( 'Wave amp (arb. units)' )\n",
    "\n",
    "Ert = energy[1]+energy[2]\n",
    "error = np.abs( Ert-energy[0] )/energy[0]\n",
    "logger.info( f'Energy conservation error: {error*100.:.7f}%' )\n",
    "\n"
   ]
  },
  {
   "cell_type": "code",
   "execution_count": null,
   "id": "d5ee011d",
   "metadata": {},
   "outputs": [],
   "source": [
    "speed, density = zip( *stack_materials )\n",
    "Z = np.array( [ a*b for a, b in zip( speed, density ) ] ) # acoustic impedances\n",
    "R = ( ( Z[0]-Z[1] )/( Z[1]+Z[0] ) )**2 # energy reflection coefficient\n"
   ]
  },
  {
   "cell_type": "markdown",
   "id": "f3df3e41",
   "metadata": {},
   "source": [
    "# Fourier representation of waves\n",
    "This is the ground truth against which the output of the S-matrix will be computed , for each frequency."
   ]
  },
  {
   "cell_type": "code",
   "execution_count": null,
   "id": "4a9f7605",
   "metadata": {},
   "outputs": [],
   "source": [
    "freqs = npft.fftfreq( len( incident_wave ), d=sim.dt )\n",
    "freqs = freqs[ freqs >= 0. ] \n",
    "df = ( freqs[1:] - freqs[:-1] ).mean()\n",
    "freqs = np.array( list( freqs ) + [ freqs[-1] + df ] )\n",
    "\n",
    "fwav_inc = npft.rfft( incident_wave, norm='ortho' )\n",
    "fwav_ref = npft.rfft( wave_reflected, norm='ortho' )\n",
    "fwav_trn = npft.rfft( waves_measured[1], norm='ortho' )\n",
    "\n",
    "logger.info( f'Fourier components\\t= {freqs.size}' )\n",
    "logger.info( f'Frequency step\\t= {df:.3e}' )"
   ]
  },
  {
   "cell_type": "code",
   "execution_count": null,
   "id": "a08f70bf",
   "metadata": {},
   "outputs": [],
   "source": [
    "with plt.style.context( '~/Templates/custom.mplstyle' ):\n",
    "    ax = plt.figure( figsize=( 12, 5 ) ).subplots( 1, 2, sharex=True )\n",
    "    \n",
    "    for n, ( wav, lbl ) in enumerate( zip( [ fwav_inc, fwav_ref, fwav_trn ], [ 'Incident', 'Reflected', 'Transmitted' ] ) ):\n",
    "        ax[0].plot( freqs, np.abs( wav ), label=lbl, linewidth=2 )\n",
    "    # ax[0].set_xlim( [ 0., 35. ] )\n",
    "    ax[0].grid()\n",
    "    ax[0].legend()\n",
    "    ax[0].set_title( 'Amplitude' )\n",
    "    ax[0].set_xlabel( 'f (inverse units)' )\n",
    "    ax[0].set_ylabel( '|FFT|' )\n",
    "    ax[0].set_xlim( [ 0., 1/pulse_width ] )\n",
    "    \n",
    "    # ax.figure( figsize=( 12, 5 ) )\n",
    "    for n, ( wav, lbl ) in enumerate( zip( [ fwav_inc, fwav_ref, fwav_trn ], [ 'Incident', 'Reflected', 'Transmitted' ] ) ):\n",
    "        ax[1].plot( freqs, np.unwrap( np.angle( wav ) )[:freqs.size], label=lbl, linewidth=2 )\n",
    "    # ax[1].set_xlim( [ 0., 3/pulse_width ] )\n",
    "    ax[1].set_ylim( [ -100., 10. ] )\n",
    "    ax[1].grid()\n",
    "    ax[1].legend()\n",
    "    ax[1].set_title( 'Phase' )\n",
    "    ax[1].set_xlabel( 'f (inverse units)' )\n",
    "    ax[1].set_ylabel( '$\\\\angle$(FFT)' )\n",
    "\n",
    "    plt.suptitle( 'Wave spectra (\\\"ground truth\\\")' )\n",
    "    plt.tight_layout()\n",
    "    plt.show()\n",
    "\n",
    "\n",
    "df = ( freqs[1:] - freqs[:-1] ).mean()\n",
    "Ef = []\n",
    "for n, ( wav, lbl ) in enumerate( zip( [ fwav_inc, fwav_ref, fwav_trn ], [ 'Incident', 'Reflected', 'Transmitted' ] ) ):\n",
    "    power = np.abs( wav )**2\n",
    "    temp = df*( 0.5*( power[0] + power[-1] ) + power[1:-1].sum() ) / ( 2.*np.pi )\n",
    "    logger.info( f'{lbl} spectrum total energy = {temp:.7e}' )\n",
    "    Ef.append( temp )\n",
    "dE_E = np.abs(Ef[1]+Ef[2]-Ef[0])/Ef[0]\n",
    "logger.info( f'Energy conservation error = {dE_E*100.:.7e}%' )\n",
    "logger.info( f'Energy conservation error (in multiples of machine zero) = {dE_E/np.finfo( float ).eps:.15f}' )\n",
    "logger.info( f'Theoretical reflected energy (first bounce) = {Ef[0]*R:.7e}' )"
   ]
  },
  {
   "cell_type": "markdown",
   "id": "dcf3f83f",
   "metadata": {},
   "source": [
    "# Harmonic analysis\n",
    "Uncomment the next cell if the input pulse is a square pulse. \n",
    "Instead of relying on the square pulse spectrum obtained from the simulation (subject to discretization errors), it's better to analytically form the spectrum that will go into the S-matrix. "
   ]
  },
  {
   "cell_type": "code",
   "execution_count": null,
   "id": "9afaec73",
   "metadata": {},
   "outputs": [],
   "source": [
    "# fwav_inc = np.abs( fwav_inc ).max() * np.sinc( freqs * pulse_width / speed[0] ).astype( complex )\n",
    "# delay = ( -stack_thickness/2. - pulse_location ) / speed[0]\n",
    "# phase_ramp = np.exp( -2.j * np.pi * freqs * delay )\n",
    "# fwav_inc *= phase_ramp"
   ]
  },
  {
   "cell_type": "code",
   "execution_count": null,
   "id": "115fb21f",
   "metadata": {},
   "outputs": [],
   "source": [
    "input = np.concatenate( [ arr[np.newaxis,:] for arr in [ fwav_inc, np.zeros( fwav_inc.shape ) ] ], axis=0 )\n",
    "\n",
    "# build propagator\n",
    "if len( stack_layers ) == 3:\n",
    "    logger.warning( 'Single stack. ' )\n",
    "    corr = float( speed[1] )\n",
    "    propagator = ftls.partial( smat.SMatrix, length=corr*stack_thickness, speed=float( speed[1] ), Z=Z )\n",
    "else: \n",
    "    logger.warning( 'Composite stack. ' )\n",
    "    length = [b-a for b, a in zip( interface_locations[2:-1], interface_locations[1:-2] ) ]\n",
    "    propagators = [ \n",
    "        ftls.partial( smat.SMatrix, length=s*l, speed=s, Z=Z[n:n+3] )\n",
    "        for n, ( l, s ) in enumerate( zip( length, speed[1:-1] ) )\n",
    "    ]\n",
    "\n",
    "\n",
    "# all_outputs = np.empty( input.shape ).astype( complex )\n",
    "all_outputs = []\n",
    "start_time = time.time()\n",
    "for n, omega_test in enumerate( 2.*np.pi*freqs ):\n",
    "    \n",
    "    if len( stack_layers ) == 3: \n",
    "        S = propagator( omega=omega_test ).S\n",
    "        output = S @ input[:,n][:,np.newaxis]\n",
    "    else:\n",
    "        S = ftls.reduce( lambda x, y: x*y, [ prop( omega=omega_test ) for prop in propagators ] )\n",
    "        # print( np.abs( np.linalg.eig( np.conj( S.S.T ) @ S.S )[0] ) )\n",
    "        output = S.S @ input[:,n][:,np.newaxis]\n",
    "\n",
    "    all_outputs.append( output )\n",
    "    # all_outputs[:,n] = output.squeeze()\n",
    "\n",
    "elapsed_time = time.time() - start_time\n",
    "logger.info( f'S-matrix simulation took {elapsed_time:.6f} seconds to reconstruct {freqs.size} Fourier components. ' )\n",
    "\n",
    "all_outputs = np.concatenate( all_outputs, axis=1 )"
   ]
  },
  {
   "cell_type": "code",
   "execution_count": null,
   "id": "d8c55dbe",
   "metadata": {},
   "outputs": [],
   "source": [
    "with plt.style.context( '~/Templates/custom.mplstyle' ):\n",
    "    ax = plt.figure( figsize=( 12, 5 ) ).subplots( 1, 2, sharex=True )\n",
    "    \n",
    "    for wav, lbl in zip( [ fwav_inc, all_outputs[1], all_outputs[0] ], [ 'Incident', 'Reflected', 'Transmitted' ] ):\n",
    "        ax[0].plot( freqs, np.abs( wav )[:freqs.size], label=lbl, linewidth=2 )\n",
    "    # ax[0].set_xlim( [ 0., 35. ] )\n",
    "    ax[0].grid()\n",
    "    ax[0].legend()\n",
    "    ax[0].set_title( 'Amplitude' )\n",
    "    ax[0].set_xlabel( 'f (inverse units)' )\n",
    "    ax[0].set_ylabel( '|FFT|' )\n",
    "    ax[0].set_xlim( [ 0., 1/pulse_width ] )\n",
    "    \n",
    "    for wav, lbl in zip( [ fwav_inc, all_outputs[1], all_outputs[0] ], [ 'Incident', 'Reflected', 'Transmitted' ] ):\n",
    "        ax[1].plot( freqs, np.unwrap( np.angle( wav ) )[:freqs.size], label=lbl, linewidth=2 )\n",
    "    ax[1].set_ylim( [ -100., 10. ] )\n",
    "    ax[1].grid()\n",
    "    ax[1].legend()\n",
    "    ax[1].set_title( 'Phase' )\n",
    "    ax[1].set_xlabel( 'f (inverse units)' )\n",
    "    ax[1].set_ylabel( '$\\\\angle$(FFT)' )\n",
    "\n",
    "    plt.suptitle( 'Wave spectra from S-matrix propagator' )\n",
    "    plt.tight_layout()\n",
    "    \n",
    "df = ( freqs[1:] - freqs[:-1] ).mean()\n",
    "Ef = []\n",
    "for wav, lbl in zip( [ fwav_inc[:-1], all_outputs[1], all_outputs[0] ], [ 'Incident', 'Reflected', 'Transmitted' ] ):\n",
    "    power = np.abs( wav )**2\n",
    "    temp = df*( 0.5*( power[0] + power[-1] ) + power[1:-1].sum() ) / ( 2. * np.pi )\n",
    "    logger.info( f'{lbl} spectrum total energy = {temp:.7e}' )\n",
    "    Ef.append( temp )\n",
    "dE_E = np.abs(Ef[1]+Ef[2]-Ef[0])/Ef[0]\n",
    "logger.info( f'Energy conservation error = {dE_E*100.:.7e}%' )\n",
    "logger.info( f'Energy conservation error (in multiples of machine zero) = {dE_E/np.finfo( float ).eps:.15f}' )\n",
    "logger.info( f'Theoretical reflected energy (first bounce) = {Ef[0]*R:.7e}')\n",
    "\n",
    "plt.show()"
   ]
  },
  {
   "cell_type": "markdown",
   "id": "ec339f8f",
   "metadata": {},
   "source": [
    "# Simulated waveforms from S-matrix\n",
    "Compare these to the simulated waveforms plotted earlier. "
   ]
  },
  {
   "cell_type": "code",
   "execution_count": null,
   "id": "519dc243",
   "metadata": {},
   "outputs": [],
   "source": [
    "back = npft.irfft( fwav_inc, norm='ortho' )\n",
    "back_r = npft.irfft( all_outputs[1], norm='ortho' ) # negative sign because it's moving in theopposite direction in space\n",
    "back_t = npft.irfft( all_outputs[0], norm='ortho' )"
   ]
  },
  {
   "cell_type": "code",
   "execution_count": null,
   "id": "bec191cc",
   "metadata": {},
   "outputs": [],
   "source": [
    "with plt.style.context( '~/Templates/custom.mplstyle' ):\n",
    "    plt.figure( figsize=( 12, 5 ) )\n",
    "    for n, ( wav, lbl ) in enumerate( zip( [ back, back_r, back_t ], [ 'Incident', 'Reflected', 'Transmitted' ] ) ):\n",
    "        E = sim.dt*( np.abs( wav )**2 ).sum()\n",
    "        energy.append( E )\n",
    "        logger.info( f'{lbl} energy\\t= {E:.3e}' )\n",
    "        plt.plot( t[:wav.size], wav, label=lbl, linewidth=2 )\n",
    "    plt.grid()\n",
    "    plt.legend( title='Simulated pulses' )\n",
    "    plt.title( 'S-matrix simulation' )\n",
    "    plt.xlabel( 't (arb. units)' )\n",
    "    plt.ylabel( 'Wave amp (arb. units)' )\n",
    "    \n",
    "\n",
    "Ert = energy[1]+energy[2]\n",
    "error = np.abs( Ert-energy[0] )/energy[0]\n",
    "logger.info( f'Energy conservation error: {error*100.:.7f}%' )\n",
    "\n",
    "plt.show()\n",
    "\n"
   ]
  },
  {
   "cell_type": "markdown",
   "id": "d8f301dc",
   "metadata": {},
   "source": [
    "# Comparison plots"
   ]
  },
  {
   "cell_type": "code",
   "execution_count": null,
   "id": "0a5fcf8b",
   "metadata": {},
   "outputs": [],
   "source": [
    "ax = plt.figure( figsize=( 12, 5 ) ).subplots( 1, 3, sharex=True, sharey=True )\n",
    "\n",
    "with plt.style.context( '~/Templates/custom.mplstyle' ):\n",
    "    for n, ( wav1, wav2, lbl ) in enumerate( zip( [ incident_wave, wave_reflected, waves_measured[1] ], [ back, back_r, back_t ], [ 'Incident', 'Reflected', 'Transmitted' ] ) ):\n",
    "        ax[n].plot( t, wav1, label='Time-domain' )\n",
    "        ax[n].plot( t, wav2, label='S-matrix' )\n",
    "        ax[n].grid()\n",
    "        ax[n].legend()\n",
    "        ax[n].set_title( lbl )\n",
    "        logger.info( f'{lbl} error: {np.abs( wav1-wav2 ).sum()/np.array( wav1 ).size:.3e}' )\n",
    "    plt.suptitle( 'Comparison plots' )\n",
    "    plt.tight_layout()\n"
   ]
  }
 ],
 "metadata": {
  "kernelspec": {
   "display_name": "analysis",
   "language": "python",
   "name": "python3"
  },
  "language_info": {
   "codemirror_mode": {
    "name": "ipython",
    "version": 3
   },
   "file_extension": ".py",
   "mimetype": "text/x-python",
   "name": "python",
   "nbconvert_exporter": "python",
   "pygments_lexer": "ipython3",
   "version": "3.11.10"
  }
 },
 "nbformat": 4,
 "nbformat_minor": 5
}
